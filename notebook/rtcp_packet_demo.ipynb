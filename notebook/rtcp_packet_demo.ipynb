{
 "cells": [
  {
   "cell_type": "code",
   "execution_count": 21,
   "id": "087e9d6b",
   "metadata": {},
   "outputs": [],
   "source": [
    "import math\n",
    "import os\n",
    "import struct\n",
    "from dataclasses import dataclass, field\n",
    "from struct import pack, unpack, unpack_from\n",
    "from typing import Any, List, Optional, Tuple, Union\n",
    "from collections import namedtuple\n",
    "\n",
    "class RtcpReportBlock:\n",
    "  \"\"\"RTCP Report Block \"\"\"\n",
    "\n",
    "  def __init__(self):\n",
    "     self.base_format = '>LLLLLL'\n",
    "     self.ssrc = 0 # 32 bits\n",
    "     self.fraction_lost = 0 # 8 bits\n",
    "     self.packets_lost = 0 # 24 bits\n",
    "     self.highest_sequence = 0 # 32 bits\n",
    "     self.jitter = 0 # 32 bits\n",
    "     self.lsr = 0 # 32 bits\n",
    "     self.dlsr = 0 # 32 bits\n",
    "        \n",
    "  def pack(self):\n",
    "     return struct.pack(self.base_format, self.ssrc, self.fraction_lost << 24 | self.packets_lost,\n",
    "                       self.highest_sequence, self.jitter, self.lsr, self.dlsr)\n",
    "\n",
    "\n",
    "class RtcpPacket:\n",
    "\n",
    "  def __init__(self):\n",
    "    self.base_format = '>BBHL{payload}s'\n",
    "    self.vpc = self.VER  # version(2 bits),  padding(1 bit), count(5 bits)\n",
    "    self.type = 0\n",
    "    self.len = 1\n",
    "    self.ssrc = 0\n",
    "    self.payload = \"\"\n",
    "    \n",
    "if __name__ == '__main__':\n",
    "    pass"
   ]
  },
  {
   "cell_type": "code",
   "execution_count": null,
   "id": "d79dca49",
   "metadata": {},
   "outputs": [],
   "source": []
  },
  {
   "cell_type": "code",
   "execution_count": null,
   "id": "2e221a15",
   "metadata": {},
   "outputs": [],
   "source": []
  }
 ],
 "metadata": {
  "kernelspec": {
   "display_name": "Python 3 (ipykernel)",
   "language": "python",
   "name": "python3"
  },
  "language_info": {
   "codemirror_mode": {
    "name": "ipython",
    "version": 3
   },
   "file_extension": ".py",
   "mimetype": "text/x-python",
   "name": "python",
   "nbconvert_exporter": "python",
   "pygments_lexer": "ipython3",
   "version": "3.9.7"
  }
 },
 "nbformat": 4,
 "nbformat_minor": 5
}

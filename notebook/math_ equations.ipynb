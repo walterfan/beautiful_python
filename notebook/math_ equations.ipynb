{
 "cells": [
  {
   "cell_type": "code",
   "execution_count": 1,
   "id": "0bd97eb4",
   "metadata": {},
   "outputs": [
    {
     "name": "stdout",
     "output_type": "stream",
     "text": [
      "2x + 5 = 13, x=?\n",
      "x= 4.0\n"
     ]
    }
   ],
   "source": [
    "\"\"\"\n",
    "ax + b = cx + d\n",
    "ax - cx = d - b\n",
    "(a-c) x = d - b\n",
    "x = (d -b)/(a-c)\n",
    "\"\"\"\n",
    "\n",
    "\n",
    "def equation(a,b,c,d):\n",
    "    return (d-b)/(a-c)\n",
    "\n",
    "\n",
    "print(\"2x + 5 = 13, x=?\")\n",
    "print(\"x =\", equation(2, 5, 0, 13))\n",
    "\n",
    "\n",
    "\"\"\"\n",
    "\n",
    "\"\"\""
   ]
  },
  {
   "cell_type": "code",
   "execution_count": null,
   "id": "240c24f7",
   "metadata": {},
   "outputs": [],
   "source": []
  }
 ],
 "metadata": {
  "kernelspec": {
   "display_name": "Python 3 (ipykernel)",
   "language": "python",
   "name": "python3"
  },
  "language_info": {
   "codemirror_mode": {
    "name": "ipython",
    "version": 3
   },
   "file_extension": ".py",
   "mimetype": "text/x-python",
   "name": "python",
   "nbconvert_exporter": "python",
   "pygments_lexer": "ipython3",
   "version": "3.9.7"
  }
 },
 "nbformat": 4,
 "nbformat_minor": 5
}

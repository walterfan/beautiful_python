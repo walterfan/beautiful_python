{
 "cells": [
  {
   "cell_type": "code",
   "execution_count": 19,
   "id": "087e9d6b",
   "metadata": {},
   "outputs": [
    {
     "name": "stdout",
     "output_type": "stream",
     "text": [
      "FieldFormat(fmt='B', cype='unsigned char', ptype='integer', size=1)\n",
      "name=b'raymond   ', serialnum=4658, school=264, gradelevel=8\n"
     ]
    },
    {
     "data": {
      "text/plain": [
       "Student(name=b'raymond   ', serialnum=4658, school=264, gradelevel=8)"
      ]
     },
     "execution_count": 19,
     "metadata": {},
     "output_type": "execute_result"
    }
   ],
   "source": [
    "import math\n",
    "import os\n",
    "import struct\n",
    "from dataclasses import dataclass, field\n",
    "from struct import pack, unpack, unpack_from\n",
    "from typing import Any, List, Optional, Tuple, Union\n",
    "from collections import namedtuple\n",
    "\n",
    "@dataclass\n",
    "class FieldFormat:\n",
    "    fmt: str\n",
    "    cype: str\n",
    "    ptype: str\n",
    "    size: int\n",
    "        \n",
    "class FormatExplainer:\n",
    "    def __init__(self):\n",
    "        self.fmt_dict = {}\n",
    "        self.add_fmt('B', 'unsigned char', 'integer', 1)\n",
    "        self.add_fmt('H', 'unsigned short', 'integer', 2)\n",
    "        self.add_fmt('I', 'unsigned int', 'integer', 4)\n",
    "        self.add_fmt('L', 'unsigned long', 'integer', 4)\n",
    "        self.add_fmt('Q', 'unsigned long long', 'integer', 8)\n",
    "        self.add_fmt('Q', 'float', 'float', 4)\n",
    "        self.add_fmt('Q', 'double', 'float', 8)\n",
    "        self.add_fmt('s', 'char[]', 'bytes', None)\n",
    "        \n",
    "        \n",
    "    def add_fmt(self, fmt, ctype, ptype, size):\n",
    "        self.fmt_dict[fmt] = FieldFormat(fmt, ctype, ptype, size)\n",
    "        \n",
    "    def explain(self, fmt):\n",
    "        return self.fmt_dict[fmt]\n",
    "                                         \n",
    "\n",
    "explainer = FormatExplainer()\n",
    "print(explainer.explain(\"B\"))\n",
    "\n",
    "record = b'raymond   \\x32\\x12\\x08\\x01\\x08'\n",
    "name, serialnum, school, gradelevel = unpack('<10sHHb', record)\n",
    "print(\"name={}, serialnum={}, school={}, gradelevel={}\".format(name, serialnum, school, gradelevel))\n",
    "\n",
    "Student = namedtuple('Student', 'name serialnum school gradelevel')\n",
    "Student._make(unpack('<10sHHb', record))\n"
   ]
  },
  {
   "cell_type": "code",
   "execution_count": null,
   "id": "d79dca49",
   "metadata": {},
   "outputs": [],
   "source": []
  },
  {
   "cell_type": "code",
   "execution_count": null,
   "id": "f5e3b2f2",
   "metadata": {},
   "outputs": [],
   "source": []
  }
 ],
 "metadata": {
  "kernelspec": {
   "display_name": "Python 3 (ipykernel)",
   "language": "python",
   "name": "python3"
  },
  "language_info": {
   "codemirror_mode": {
    "name": "ipython",
    "version": 3
   },
   "file_extension": ".py",
   "mimetype": "text/x-python",
   "name": "python",
   "nbconvert_exporter": "python",
   "pygments_lexer": "ipython3",
   "version": "3.9.7"
  }
 },
 "nbformat": 4,
 "nbformat_minor": 5
}

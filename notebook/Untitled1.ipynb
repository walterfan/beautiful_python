{
 "cells": [
  {
   "cell_type": "code",
   "execution_count": 9,
   "id": "7f6b9714",
   "metadata": {},
   "outputs": [
    {
     "name": "stdout",
     "output_type": "stream",
     "text": [
      "['/opt/homer/bin/homer', '--maas-cpu-affinity', '1,2', '--maas-num-threads', '5', '--maas-threads-per-group', '2', '--maas-keepalives-per-report', '10', '--maas-num-ingress-threads', '4', '--maas-num-egress-threads', '6', '--cpu-start-index', '0', '--cpu-end-index', '1', '--homer-cpu-start-index', '2']\n"
     ]
    }
   ],
   "source": [
    "HOMER_CPU_START_INDEX = 2\n",
    "DEFAULT_MAAS_THREADS_PER_GROUP = 2\n",
    "DEFAULT_MAAS_KEEPALIVES_PER_REPORT = 10\n",
    "HOMER_BIN_PATH=\"/opt/homer/bin/homer\"\n",
    "\n",
    "class CpuInfo:\n",
    "    cpu_list = []\n",
    "\n",
    "class Tester:\n",
    "    def __init__(self):\n",
    "        self.cpu_info = CpuInfo()\n",
    "        self.cpu_info.cpu_list = [0, 1]\n",
    "        self.maas_ingress_threads = 4\n",
    "        self.maas_egress_threads = 6\n",
    "        self.maas_cpu_affinity = [\"1\", \"2\"]\n",
    "        self.maas_worker_threads = 5\n",
    "    \n",
    "    def run_args(self):\n",
    "        # get the CPU start/end index assigned to Homer + Maas\n",
    "        cpu_start_index = self.cpu_info.cpu_list[0]\n",
    "        cpu_end_index = self.cpu_info.cpu_list[-1]\n",
    "        return [\n",
    "            HOMER_BIN_PATH, '--maas-cpu-affinity', ','.join(self.maas_cpu_affinity),\n",
    "            '--maas-num-threads',\n",
    "            str(self.maas_worker_threads), '--maas-threads-per-group',\n",
    "            str(DEFAULT_MAAS_THREADS_PER_GROUP), '--maas-keepalives-per-report',\n",
    "            str(DEFAULT_MAAS_KEEPALIVES_PER_REPORT), '--maas-num-ingress-threads',\n",
    "            str(self.maas_ingress_threads), '--maas-num-egress-threads',\n",
    "            str(self.maas_egress_threads), '--cpu-start-index',\n",
    "            str(cpu_start_index), '--cpu-end-index',\n",
    "            str(cpu_end_index), '--homer-cpu-start-index',\n",
    "            str(HOMER_CPU_START_INDEX)\n",
    "        ]\n",
    "    \n",
    "tester = Tester()\n",
    "args = tester.run_args()\n",
    "print(args)"
   ]
  },
  {
   "cell_type": "code",
   "execution_count": null,
   "id": "fff22bab",
   "metadata": {},
   "outputs": [],
   "source": []
  }
 ],
 "metadata": {
  "kernelspec": {
   "display_name": "Python 3 (ipykernel)",
   "language": "python",
   "name": "python3"
  },
  "language_info": {
   "codemirror_mode": {
    "name": "ipython",
    "version": 3
   },
   "file_extension": ".py",
   "mimetype": "text/x-python",
   "name": "python",
   "nbconvert_exporter": "python",
   "pygments_lexer": "ipython3",
   "version": "3.9.7"
  }
 },
 "nbformat": 4,
 "nbformat_minor": 5
}
